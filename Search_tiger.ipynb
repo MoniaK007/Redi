{
  "nbformat": 4,
  "nbformat_minor": 0,
  "metadata": {
    "colab": {
      "provenance": [],
      "authorship_tag": "ABX9TyO32p6ySAzCBAzvJvu5QeZU",
      "include_colab_link": true
    },
    "kernelspec": {
      "name": "python3",
      "display_name": "Python 3"
    },
    "language_info": {
      "name": "python"
    }
  },
  "cells": [
    {
      "cell_type": "markdown",
      "metadata": {
        "id": "view-in-github",
        "colab_type": "text"
      },
      "source": [
        "<a href=\"https://colab.research.google.com/github/MoniaK007/Redi/blob/main/Search_tiger.ipynb\" target=\"_parent\"><img src=\"https://colab.research.google.com/assets/colab-badge.svg\" alt=\"Open In Colab\"/></a>"
      ]
    },
    {
      "cell_type": "code",
      "execution_count": 5,
      "metadata": {
        "colab": {
          "base_uri": "https://localhost:8080/"
        },
        "id": "GTdOqd5bpSbl",
        "outputId": "853c81ed-6ad2-42f7-aaad-dfbd83a361b1"
      },
      "outputs": [
        {
          "output_type": "stream",
          "name": "stdout",
          "text": [
            "image urlhttps://cdn.pixabay.com/photo/2017/05/29/15/34/kitten-2354016_1280.jpg\n",
            "1/1 [==============================] - 1s 1s/step\n",
            "Downloading data from https://storage.googleapis.com/download.tensorflow.org/data/imagenet_class_index.json\n",
            "35363/35363 [==============================] - 0s 0us/step\n",
            "tabby (37.50%)\n"
          ]
        }
      ],
      "source": [
        "from PIL import Image\n",
        "import requests\n",
        "from io import BytesIO\n",
        "import keras.preprocessing.image\n",
        "from keras.applications.vgg16 import preprocess_input\n",
        "from keras.applications.vgg16 import decode_predictions\n",
        "from keras.applications.vgg16 import VGG16\n",
        "from tensorflow.keras.preprocessing.image import img_to_array\n",
        "\n",
        "model = VGG16() # load the model\n",
        "\n",
        "url = input(\"image url\")\n",
        "response = requests.get(url)\n",
        "image = Image.open(BytesIO(response.content))\n",
        "image = image.resize((224, 224))\n",
        "image = img_to_array(image)\n",
        "image = image.reshape((1, image.shape[0], image.shape[1], image.shape[2]))\n",
        "image = preprocess_input(image)\n",
        "\n",
        "yhat = model.predict(image)\n",
        "label = decode_predictions(yhat)\n",
        "label = label[0][0]\n",
        "print(\"%s (%.2f%%)\" % (label[1], label[2]*100))\n"
      ]
    }
  ]
}